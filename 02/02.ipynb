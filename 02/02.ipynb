{
 "cells": [
  {
   "cell_type": "code",
   "execution_count": 24,
   "metadata": {},
   "outputs": [
    {
     "data": {
      "text/plain": [
       "356"
      ]
     },
     "execution_count": 24,
     "metadata": {},
     "output_type": "execute_result"
    }
   ],
   "source": [
    "import re\n",
    "\n",
    "def safe(line):\n",
    "    current = 0\n",
    "    \n",
    "    for i in range(len(line) - 1):\n",
    "        next = line[i] - line[i + 1]\n",
    "        \n",
    "        if not 1 <= abs(next) <= 3 or current * next < 0:\n",
    "            return False\n",
    "        \n",
    "        current = next\n",
    "        \n",
    "    return True\n",
    "\n",
    "data = []\n",
    "\n",
    "with open('data/data.txt', 'r') as file:\n",
    "    for line in file:\n",
    "        data.append(list(map(int, re.findall(r'\\d+', line))))\n",
    "        \n",
    "sum(safe(x) for x in data)\n"
   ]
  },
  {
   "cell_type": "code",
   "execution_count": 25,
   "metadata": {},
   "outputs": [
    {
     "data": {
      "text/plain": [
       "413"
      ]
     },
     "execution_count": 25,
     "metadata": {},
     "output_type": "execute_result"
    }
   ],
   "source": [
    "sum(safe(x) or any(safe(x[:i] + x[i + 1:]) for i in range(len(data))) for x in data)"
   ]
  }
 ],
 "metadata": {
  "kernelspec": {
   "display_name": "Python 3",
   "language": "python",
   "name": "python3"
  },
  "language_info": {
   "codemirror_mode": {
    "name": "ipython",
    "version": 3
   },
   "file_extension": ".py",
   "mimetype": "text/x-python",
   "name": "python",
   "nbconvert_exporter": "python",
   "pygments_lexer": "ipython3",
   "version": "3.10.13"
  }
 },
 "nbformat": 4,
 "nbformat_minor": 2
}
