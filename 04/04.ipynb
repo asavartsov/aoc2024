{
 "cells": [
  {
   "cell_type": "code",
   "execution_count": 109,
   "metadata": {},
   "outputs": [
    {
     "data": {
      "text/plain": [
       "2549"
      ]
     },
     "execution_count": 109,
     "metadata": {},
     "output_type": "execute_result"
    }
   ],
   "source": [
    "import numpy as np\n",
    "\n",
    "with open('data/data.txt', 'r') as file:\n",
    "    data = np.array([list(line.strip()) for line in file])\n",
    "\n",
    "w, h = data.shape\n",
    "\n",
    "def xmas(i, j):\n",
    "    for dx, dy in [[0, 1], [1, 0], [1, 1], [-1, -1], [0, -1], [-1, 0], [1, -1], [-1, 1]]:\n",
    "        if 0 <= i + dx * 3 < w and 0 <= j + dy * 3 < h:\n",
    "            yield [data[i + dx * k, j + dy * k] for k in range(4)] == ['X', 'M', 'A', 'S']\n",
    "        \n",
    "sum(sum(xmas(i, j)) for i in range(w) for j in range(h))"
   ]
  },
  {
   "cell_type": "code",
   "execution_count": null,
   "metadata": {},
   "outputs": [
    {
     "data": {
      "text/plain": [
       "2003"
      ]
     },
     "execution_count": 110,
     "metadata": {},
     "output_type": "execute_result"
    }
   ],
   "source": [
    "def xmas(i, j):\n",
    "    if i > 0 and i < w - 1 and j > 0 and j < h - 1 and data[i, j] == 'A':\n",
    "        lr, rl = data[i - 1, j - 1] + data[i + 1, j + 1], data[i - 1, j + 1] + data[i + 1, j - 1]\n",
    "        yield lr in ['MS', 'SM'] and rl in ['MS', 'SM']\n",
    "    \n",
    "sum(sum(xmas(i, j)) for i in range(w) for j in range(h))"
   ]
  }
 ],
 "metadata": {
  "kernelspec": {
   "display_name": "Python 3",
   "language": "python",
   "name": "python3"
  },
  "language_info": {
   "codemirror_mode": {
    "name": "ipython",
    "version": 3
   },
   "file_extension": ".py",
   "mimetype": "text/x-python",
   "name": "python",
   "nbconvert_exporter": "python",
   "pygments_lexer": "ipython3",
   "version": "3.10.13"
  }
 },
 "nbformat": 4,
 "nbformat_minor": 2
}
