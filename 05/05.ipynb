{
 "cells": [
  {
   "cell_type": "code",
   "execution_count": 134,
   "metadata": {},
   "outputs": [
    {
     "data": {
      "text/plain": [
       "4996"
      ]
     },
     "execution_count": 134,
     "metadata": {},
     "output_type": "execute_result"
    }
   ],
   "source": [
    "from functools import cmp_to_key\n",
    "\n",
    "total = 0\n",
    "\n",
    "rules, updates = [], []\n",
    "\n",
    "with open('data/data.txt', 'r') as file:\n",
    "    for line in map(str.strip, file):\n",
    "        if '|' in line:\n",
    "            rules = [*rules, tuple(line.split('|'))]\n",
    "        if ',' in line:\n",
    "            updates = [*updates, line.split(',')]\n",
    "        \n",
    "def cmp(x, y):\n",
    "    return -1 if (x, y) in rules else 1\n",
    "\n",
    "total = 0\n",
    "\n",
    "for update in updates:\n",
    "    if update == sorted(update, key=cmp_to_key(cmp)):\n",
    "        total += int(update[len(update) // 2])        \n",
    "        \n",
    "total"
   ]
  },
  {
   "cell_type": "code",
   "execution_count": 135,
   "metadata": {},
   "outputs": [
    {
     "data": {
      "text/plain": [
       "6311"
      ]
     },
     "execution_count": 135,
     "metadata": {},
     "output_type": "execute_result"
    }
   ],
   "source": [
    "total = 0\n",
    "\n",
    "for update in updates:\n",
    "    corrected = sorted(update, key=cmp_to_key(cmp))\n",
    "        \n",
    "    if not update == corrected:\n",
    "        total += int(corrected[len(corrected) // 2])\n",
    "\n",
    "total"
   ]
  }
 ],
 "metadata": {
  "kernelspec": {
   "display_name": "Python 3",
   "language": "python",
   "name": "python3"
  },
  "language_info": {
   "codemirror_mode": {
    "name": "ipython",
    "version": 3
   },
   "file_extension": ".py",
   "mimetype": "text/x-python",
   "name": "python",
   "nbconvert_exporter": "python",
   "pygments_lexer": "ipython3",
   "version": "3.10.13"
  }
 },
 "nbformat": 4,
 "nbformat_minor": 2
}
