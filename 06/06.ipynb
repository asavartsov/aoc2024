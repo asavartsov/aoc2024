{
 "cells": [
  {
   "cell_type": "code",
   "execution_count": 1,
   "metadata": {},
   "outputs": [
    {
     "data": {
      "text/plain": [
       "5305"
      ]
     },
     "execution_count": 1,
     "metadata": {},
     "output_type": "execute_result"
    }
   ],
   "source": [
    "import numpy as np\n",
    "\n",
    "with open('data/data.txt', 'r') as f:\n",
    "    data = np.array([list(line.strip()) for line in f])\n",
    "\n",
    "dy, dx = -1, 0\n",
    "rot90 = np.matrix([[0, -1], [1, 0]]).A\n",
    "\n",
    "h, w = data.shape    \n",
    "[[y, x]] = np.argwhere(data == '^')\n",
    "\n",
    "visited = {(y, x),}\n",
    "\n",
    "while 0 <= x + dx < w and 0 <= y + dy < h:\n",
    "    if data[y + dy, x + dx] == '#':\n",
    "        dy, dx = (dy, dx) @ rot90\n",
    "    else:\n",
    "        y, x = y + dy, x + dx\n",
    "        visited.add((y, x))\n",
    "\n",
    "len(visited)"
   ]
  },
  {
   "cell_type": "code",
   "execution_count": 2,
   "metadata": {},
   "outputs": [
    {
     "data": {
      "text/plain": [
       "2143"
      ]
     },
     "execution_count": 2,
     "metadata": {},
     "output_type": "execute_result"
    }
   ],
   "source": [
    "def loop(y, x, oy, ox):\n",
    "    dy, dx = -1, 0\n",
    "    visited = {(y, x, dy, dx),}\n",
    "\n",
    "    while 0 <= x + dx < w and 0 <= y + dy < h:\n",
    "        if data[y + dy, x + dx] == '#' or (y + dy, x + dx) == (oy, ox):\n",
    "            dy, dx = (dy, dx) @ rot90\n",
    "        else:    \n",
    "            y, x = y + dy, x + dx\n",
    "            \n",
    "        if (y, x, dy, dx) in visited:\n",
    "            return True\n",
    "        \n",
    "        visited.add((y, x, dy, dx))\n",
    "        \n",
    "    return False\n",
    "\n",
    "[[y, x]] = np.argwhere(data == '^')\n",
    "sum(loop(y, x, oy, ox) for oy, ox in visited)"
   ]
  }
 ],
 "metadata": {
  "kernelspec": {
   "display_name": ".venv",
   "language": "python",
   "name": "python3"
  },
  "language_info": {
   "codemirror_mode": {
    "name": "ipython",
    "version": 3
   },
   "file_extension": ".py",
   "mimetype": "text/x-python",
   "name": "python",
   "nbconvert_exporter": "python",
   "pygments_lexer": "ipython3",
   "version": "3.13.0"
  }
 },
 "nbformat": 4,
 "nbformat_minor": 2
}
