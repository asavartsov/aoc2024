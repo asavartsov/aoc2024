{
 "cells": [
  {
   "cell_type": "code",
   "execution_count": 2,
   "metadata": {},
   "outputs": [
    {
     "data": {
      "text/plain": [
       "12940396350192"
      ]
     },
     "execution_count": 2,
     "metadata": {},
     "output_type": "execute_result"
    }
   ],
   "source": [
    "import re\n",
    "\n",
    "with open(f'data/data.txt', 'r') as f:\n",
    "    data = [list(map(int, re.findall(r'\\d+', line))) for line in f]\n",
    "\n",
    "def check(result, numbers):\n",
    "    queue = [(0, numbers),]\n",
    "    \n",
    "    while queue:\n",
    "        current, numbers = queue.pop()\n",
    "        \n",
    "        if current == result and not numbers:\n",
    "            return result\n",
    "        if current <= result and numbers:\n",
    "            queue.append((current + numbers[0], numbers[1:]))\n",
    "            queue.append((current * numbers[0], numbers[1:]))\n",
    "            \n",
    "    return 0\n",
    "\n",
    "sum(check(result, numbers) for result, *numbers in data)"
   ]
  },
  {
   "cell_type": "code",
   "execution_count": null,
   "metadata": {},
   "outputs": [
    {
     "data": {
      "text/plain": [
       "106016735664498"
      ]
     },
     "execution_count": 3,
     "metadata": {},
     "output_type": "execute_result"
    }
   ],
   "source": [
    "import re\n",
    "\n",
    "with open(f'data/data.txt', 'r') as f:\n",
    "    data = [list(map(int, re.findall(r'\\d+', line))) for line in f]\n",
    "\n",
    "def check(result, numbers):\n",
    "    queue = [(0, numbers),]\n",
    "    \n",
    "    while queue:\n",
    "        current, numbers = queue.pop()\n",
    "        \n",
    "        if current == result and not numbers:\n",
    "            return result\n",
    "        if current <= result and numbers:\n",
    "            queue.append((current + numbers[0], numbers[1:]))\n",
    "            queue.append((current * numbers[0], numbers[1:]))\n",
    "            queue.append((int(f'{current}{numbers[0]}'), numbers[1:]))\n",
    "            \n",
    "    return 0\n",
    "\n",
    "sum(check(result, numbers) for result, *numbers in data)"
   ]
  }
 ],
 "metadata": {
  "kernelspec": {
   "display_name": "Python 3",
   "language": "python",
   "name": "python3"
  },
  "language_info": {
   "codemirror_mode": {
    "name": "ipython",
    "version": 3
   },
   "file_extension": ".py",
   "mimetype": "text/x-python",
   "name": "python",
   "nbconvert_exporter": "python",
   "pygments_lexer": "ipython3",
   "version": "3.10.13"
  }
 },
 "nbformat": 4,
 "nbformat_minor": 2
}
