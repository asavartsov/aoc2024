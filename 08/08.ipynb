{
 "cells": [
  {
   "cell_type": "code",
   "execution_count": null,
   "metadata": {},
   "outputs": [
    {
     "data": {
      "text/plain": [
       "313"
      ]
     },
     "execution_count": 153,
     "metadata": {},
     "output_type": "execute_result"
    }
   ],
   "source": [
    "import numpy as np\n",
    "import itertools\n",
    "\n",
    "with open(f'data/data.txt', 'r') as f:\n",
    "    data = np.array([[*line.strip()] for line in f])\n",
    "\n",
    "def in_bounds(y, x):\n",
    "    h, w = data.shape\n",
    "    return (w > x >= 0) and (h > y >= 0)\n",
    "\n",
    "def antinodes(pair):\n",
    "    (ay, ax), (by, bx) = pair\n",
    "    dy, dx = ay - by, ax - bx\n",
    "    \n",
    "    if in_bounds(ay + dy, ax + dx):\n",
    "        yield ay + dy, ax + dx\n",
    "        \n",
    "    if in_bounds(by - dy, bx - dx):\n",
    "        yield by - dy, bx - dx\n",
    "\n",
    "def locations():\n",
    "    antennas = np.unique(np.extract(data > '.', data))\n",
    "    \n",
    "    for antenna in antennas:\n",
    "        pairs = itertools.combinations(np.argwhere(data == antenna), 2)\n",
    "        yield from (node for pair in pairs for node in antinodes(pair))\n",
    "\n",
    "len(set(locations()))"
   ]
  },
  {
   "cell_type": "code",
   "execution_count": 154,
   "metadata": {},
   "outputs": [
    {
     "data": {
      "text/plain": [
       "1064"
      ]
     },
     "execution_count": 154,
     "metadata": {},
     "output_type": "execute_result"
    }
   ],
   "source": [
    "import numpy as np\n",
    "import itertools\n",
    "\n",
    "with open(f'data/data.txt', 'r') as f:\n",
    "    data = np.array([[*line.strip()] for line in f])\n",
    "\n",
    "def in_bounds(y, x):\n",
    "    h, w = data.shape\n",
    "    return (w > x >= 0) and (h > y >= 0)\n",
    "\n",
    "def antinodes(pair):\n",
    "    (ay, ax), (by, bx) = pair\n",
    "    dy, dx = ay - by, ax - bx\n",
    "    \n",
    "    while in_bounds(ay, ax):\n",
    "        yield ay, ax\n",
    "        ay, ax = ay + dy, ax + dx\n",
    "\n",
    "    while in_bounds(by, bx):\n",
    "        yield by, bx\n",
    "        by, bx = by - dy, bx - dx\n",
    "\n",
    "\n",
    "def locations():\n",
    "    antennas = np.unique(np.extract(data > '.', data))\n",
    "    \n",
    "    for antenna in antennas:\n",
    "        pairs = itertools.combinations(np.argwhere(data == antenna), 2)\n",
    "        yield from (node for pair in pairs for node in antinodes(pair))\n",
    "\n",
    "len(set(locations()))"
   ]
  }
 ],
 "metadata": {
  "kernelspec": {
   "display_name": ".venv",
   "language": "python",
   "name": "python3"
  },
  "language_info": {
   "codemirror_mode": {
    "name": "ipython",
    "version": 3
   },
   "file_extension": ".py",
   "mimetype": "text/x-python",
   "name": "python",
   "nbconvert_exporter": "python",
   "pygments_lexer": "ipython3",
   "version": "3.13.0"
  }
 },
 "nbformat": 4,
 "nbformat_minor": 2
}
