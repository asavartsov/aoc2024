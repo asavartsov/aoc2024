{
 "cells": [
  {
   "cell_type": "code",
   "execution_count": null,
   "metadata": {},
   "outputs": [
    {
     "data": {
      "text/plain": [
       "6288707484810"
      ]
     },
     "execution_count": 5,
     "metadata": {},
     "output_type": "execute_result"
    }
   ],
   "source": [
    "files, free = [], []\n",
    "\n",
    "with open(f'data/data.txt', 'r') as file:\n",
    "    data = file.readline().strip()\n",
    "    \n",
    "    for idx, block in enumerate(data):\n",
    "        id, n = idx // 2, int(block)\n",
    "        \n",
    "        if idx % 2 == 0:\n",
    "            files.append((id, n))\n",
    "        else:\n",
    "            free.append(n)\n",
    "\n",
    "id, start = files.pop(0)\n",
    "result, address = 0, 0\n",
    "\n",
    "while free and files:\n",
    "    free_size = free.pop(0)\n",
    "    id, file_size = files.pop()\n",
    "    used = 0\n",
    "\n",
    "    if file_size > free_size:\n",
    "        used = free_size\n",
    "        files.append((id, file_size - free_size))\n",
    "    else:\n",
    "        used = file_size\n",
    "        free.insert(0, free_size - file_size)\n",
    "        \n",
    "    result, address = result + sum(id * a for a in range(start + address, start + address + used)), address + used\n",
    "\n",
    "    if file_size > free_size:\n",
    "        id, size = files.pop(0)\n",
    "        result, address = result + sum(id * a for a in range(start + address, start + address + size)), address + size\n",
    "    \n",
    "result"
   ]
  },
  {
   "cell_type": "code",
   "execution_count": 2,
   "metadata": {},
   "outputs": [
    {
     "data": {
      "text/plain": [
       "6311837662089"
      ]
     },
     "execution_count": 2,
     "metadata": {},
     "output_type": "execute_result"
    }
   ],
   "source": [
    "files, free = [], []\n",
    "\n",
    "with open(f'data/data.txt', 'r') as file:\n",
    "    data = file.readline().strip()\n",
    "    address = 0\n",
    "    \n",
    "    for idx, block in enumerate(data):\n",
    "        id, n = idx // 2, int(block)\n",
    "        \n",
    "        if idx % 2 == 0:\n",
    "            files.append((address, id, n))\n",
    "        elif n > 0:\n",
    "            free.append((address, n))\n",
    "            \n",
    "        address += n\n",
    "\n",
    "def merge():\n",
    "    free.sort()\n",
    "    \n",
    "    k = 1\n",
    "    while k < len(free):\n",
    "        (pa, ps), (ca, cs) = free[k - 1], free[k]\n",
    "        \n",
    "        if pa == ca + 1:\n",
    "            free[k - 1] = (pa, ps + cs)\n",
    "            free.remove(free[k])\n",
    "        k += 1\n",
    "\n",
    "for file_address, file_id, file_size in reversed(files):\n",
    "    merge()\n",
    "    \n",
    "    for free_address, free_size in free:\n",
    "        if file_size <= free_size and file_address > free_address:\n",
    "            files[file_id] = (free_address, file_id, file_size)\n",
    "            \n",
    "            free.append((file_address, file_size))\n",
    "            free.remove((free_address, free_size))\n",
    "            \n",
    "            if free_size - file_size > 0:\n",
    "                free.append((free_address + file_size, free_size - file_size))\n",
    "\n",
    "            break\n",
    "\n",
    "sum(id * a for address, id, size in files for a in range(address, address + size))"
   ]
  }
 ],
 "metadata": {
  "kernelspec": {
   "display_name": "Python 3",
   "language": "python",
   "name": "python3"
  },
  "language_info": {
   "codemirror_mode": {
    "name": "ipython",
    "version": 3
   },
   "file_extension": ".py",
   "mimetype": "text/x-python",
   "name": "python",
   "nbconvert_exporter": "python",
   "pygments_lexer": "ipython3",
   "version": "3.10.13"
  }
 },
 "nbformat": 4,
 "nbformat_minor": 2
}
