{
 "cells": [
  {
   "cell_type": "code",
   "execution_count": 49,
   "metadata": {},
   "outputs": [
    {
     "data": {
      "text/plain": [
       "482"
      ]
     },
     "execution_count": 49,
     "metadata": {},
     "output_type": "execute_result"
    }
   ],
   "source": [
    "import numpy\n",
    "\n",
    "with open(f'data/data.txt', 'r') as f:\n",
    "    data = numpy.array([[*map(int, line.strip())] for line in f])\n",
    "\n",
    "def in_bounds(y, x):\n",
    "    h, w = data.shape\n",
    "    return 0 <= y < h and 0 <= x < w\n",
    "\n",
    "def neighbours(y, x):\n",
    "    for dx, dy in [[0, 1], [1, 0], [0, -1], [-1, 0]]:\n",
    "        ny, nx = y + dy, x + dx\n",
    "        if in_bounds(ny, nx) and data[ny, nx] - data[y, x] == 1:\n",
    "            yield ny, nx, data[ny, nx]\n",
    "\n",
    "def score(y, x):\n",
    "    score = 0\n",
    "    queue, visited = [(y, x, 0)], []\n",
    "\n",
    "    while queue:\n",
    "        y, x, h = queue.pop()\n",
    "        score = score + (h == 9)\n",
    "\n",
    "        for neighbour in neighbours(y, x):\n",
    "            if not neighbour in visited:\n",
    "                queue.append(neighbour)\n",
    "                visited.append(neighbour)\n",
    "\n",
    "    return score\n",
    "\n",
    "sum(score(y, x) for y, x in numpy.argwhere(data == 0))"
   ]
  },
  {
   "cell_type": "code",
   "execution_count": 50,
   "metadata": {},
   "outputs": [
    {
     "data": {
      "text/plain": [
       "1094"
      ]
     },
     "execution_count": 50,
     "metadata": {},
     "output_type": "execute_result"
    }
   ],
   "source": [
    "def score(y, x):\n",
    "    score = 0\n",
    "    queue = [(y, x, 0)]\n",
    "\n",
    "    while queue:\n",
    "        y, x, h = queue.pop()\n",
    "        score = score + (h == 9)\n",
    "\n",
    "        for neighbour in neighbours(y, x):\n",
    "            queue.append(neighbour)\n",
    "\n",
    "    return score\n",
    "\n",
    "sum(score(y, x) for y, x in numpy.argwhere(data == 0))"
   ]
  }
 ],
 "metadata": {
  "kernelspec": {
   "display_name": "Python 3",
   "language": "python",
   "name": "python3"
  },
  "language_info": {
   "codemirror_mode": {
    "name": "ipython",
    "version": 3
   },
   "file_extension": ".py",
   "mimetype": "text/x-python",
   "name": "python",
   "nbconvert_exporter": "python",
   "pygments_lexer": "ipython3",
   "version": "3.10.13"
  }
 },
 "nbformat": 4,
 "nbformat_minor": 2
}
