{
 "cells": [
  {
   "cell_type": "code",
   "execution_count": 143,
   "metadata": {},
   "outputs": [
    {
     "data": {
      "text/plain": [
       "(231278, 274229228071551)"
      ]
     },
     "execution_count": 143,
     "metadata": {},
     "output_type": "execute_result"
    }
   ],
   "source": [
    "import re\n",
    "import math\n",
    "from collections import Counter\n",
    "\n",
    "with open(f'data/data.txt', 'r') as f:\n",
    "    data = list(map(int, re.findall(r'\\d+', f.read())))\n",
    "\n",
    "def blink(x):\n",
    "    match x:\n",
    "        case 0: return [1]\n",
    "        case x if (digits := int(math.log10(x)) + 1) % 2 == 0:\n",
    "            k = 10 ** (digits // 2)\n",
    "            return [x // k, x % k]\n",
    "        case _: return [x * 2024]\n",
    "\n",
    "def get(times):\n",
    "    nums = dict(Counter(data))\n",
    "\n",
    "    for _ in range(times):\n",
    "        for x, n in [(k, v) for k, v in nums.items() if v > 0]:\n",
    "            for k in blink(x):\n",
    "                nums[k] = nums[k] + n if k in nums else n\n",
    "            nums[x] -= n\n",
    "    \n",
    "    return sum(nums.values())\n",
    "\n",
    "get(25), get(75)"
   ]
  }
 ],
 "metadata": {
  "kernelspec": {
   "display_name": "Python 3",
   "language": "python",
   "name": "python3"
  },
  "language_info": {
   "codemirror_mode": {
    "name": "ipython",
    "version": 3
   },
   "file_extension": ".py",
   "mimetype": "text/x-python",
   "name": "python",
   "nbconvert_exporter": "python",
   "pygments_lexer": "ipython3",
   "version": "3.10.13"
  }
 },
 "nbformat": 4,
 "nbformat_minor": 2
}
